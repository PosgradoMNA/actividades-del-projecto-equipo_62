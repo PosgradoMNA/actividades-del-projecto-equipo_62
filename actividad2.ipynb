{
 "cells": [
  {
   "cell_type": "markdown",
   "metadata": {},
   "source": [
    "## Actividad 1\n",
    "### Equipo 62\n",
    "\n",
    "Integrantes:\n",
    "- Ricardo Morales Bustillos **A01740032**\n",
    "- Alejandro Jesús Vázquez Navarro **A01793146**\n",
    "\n",
    "---"
   ]
  },
  {
   "cell_type": "markdown",
   "metadata": {},
   "source": [
    "# Instrucciones:\n",
    "\n",
    "- Identificar una metodología que vas a usar durante la realización del proyecto\n",
    "- Escribe los pasos estándares en un máximo de 3 oraciones, por cada fase\n",
    "- Documenta el proceso en jupyter notebook. "
   ]
  },
  {
   "cell_type": "markdown",
   "metadata": {},
   "source": [
    "### Metodología\n",
    "\n",
    "Para el desarrollo de este curso, utilizaremos la metodología CRISP-DM.\n",
    "\n",
    "\n",
    "La metodología CRISP-DM permite la ejecución exitosa de proyectos de Ciencia de Datos gracias al abordamiento basado en el método científico que habilita a todos los stakeholders para participar activamente en todas las fases.\n",
    "\n",
    "\n",
    "A continuación se presentan las fases de dicha metodología:\n",
    "\n",
    "\n",
    "\n",
    "![CRISP](./crisp.png)"
   ]
  },
  {
   "cell_type": "markdown",
   "metadata": {},
   "source": [
    "## Business Understanding\n",
    "\n",
    "- Declaración de los objetivos de negocio\n",
    "- Identificación del __problem statement__ (¿qué vamos a resolver?)\n",
    "- Evaluación de la situación actual\n",
    "\n",
    "## Data Understanding\n",
    "- Recolección de los __datos principales__\n",
    "- Generación de reportes de __calidad__ de datos\n",
    "- Generación de reportes de __descripción__ de datos\n",
    "\n",
    "## Data Preparation\n",
    "- __Limpieza__ de datos\n",
    "- __Construcción__ de nuevas variables\n",
    "- __Formateo__ de datos\n",
    "\n",
    "## Modeling\n",
    "- Derivado de la identificación del problema, elegir __algoritmos de clasificación, predicción o clusterización.__\n",
    "- __Entrenar__ modelos\n",
    "- __Diseñar__ pruebas y reportes de performance\n",
    "- __Evaluación__ del modelo\n",
    "\n",
    "## Evaluation\n",
    "- __Evaluar__ las metricas devueltas por los modelos\n",
    "- __Comparar__ con las métricas de éxito definidas en la fase Business Understanding\n",
    "- __Determinar__ próximos pasos\n",
    "\n",
    "## Deployment\n",
    "- Diseñar __plan de despliegue__ en producción\n",
    "- __Monitoreo y mantenimiento__ de los modelos con base en las métricas de performance.\n",
    "- __Comunicación de los resultados__ a los principales stakeholders."
   ]
  }
 ],
 "metadata": {
  "kernelspec": {
   "display_name": "Python 3.10.6 64-bit (microsoft store)",
   "language": "python",
   "name": "python3"
  },
  "language_info": {
   "codemirror_mode": {
    "name": "ipython",
    "version": 3
   },
   "file_extension": ".py",
   "mimetype": "text/x-python",
   "name": "python",
   "nbconvert_exporter": "python",
   "pygments_lexer": "ipython3",
   "version": "3.10.6"
  },
  "orig_nbformat": 4,
  "vscode": {
   "interpreter": {
    "hash": "32a3e530000ba53acf1932123aae5e6f99e69a5f3504c7f27c942507bf3b5c74"
   }
  }
 },
 "nbformat": 4,
 "nbformat_minor": 2
}
