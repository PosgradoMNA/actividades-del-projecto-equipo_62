{
 "cells": [
  {
   "cell_type": "markdown",
   "metadata": {},
   "source": [
    "### Metodología\n",
    "\n",
    "Para el desarrollo de este curso, utilizaremos la metodología CRISP-DM.\n",
    "\n",
    "\n",
    "La metodología CRISP-DM permite la ejecución exitosa de proyectos de Ciencia de Datos gracias al abordamiento basado en el método científico que habilita a todos los stakeholders para participar activamente en todas las fases.\n",
    "\n",
    "\n",
    "A continuación se presentan las fases de dicha metodología:\n",
    "\n",
    "\n",
    "\n",
    "![CRISP](../../../../../Maestr%C3%ADa/Sep%20-%20Dic/crisp.png)"
   ]
  }
 ],
 "metadata": {
  "kernelspec": {
   "display_name": "Python 3.10.6 64-bit (microsoft store)",
   "language": "python",
   "name": "python3"
  },
  "language_info": {
   "codemirror_mode": {
    "name": "ipython",
    "version": 3
   },
   "file_extension": ".py",
   "mimetype": "text/x-python",
   "name": "python",
   "nbconvert_exporter": "python",
   "pygments_lexer": "ipython3",
   "version": "3.10.6"
  },
  "orig_nbformat": 4,
  "vscode": {
   "interpreter": {
    "hash": "32a3e530000ba53acf1932123aae5e6f99e69a5f3504c7f27c942507bf3b5c74"
   }
  }
 },
 "nbformat": 4,
 "nbformat_minor": 2
}
