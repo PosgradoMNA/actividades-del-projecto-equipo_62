{
 "cells": [
  {
   "cell_type": "markdown",
   "metadata": {},
   "source": [
    "## Actividad 1\n",
    "## Equipo 62\n",
    "### Integrantes: \n",
    "- Ricardo Morales Bustillos **A01740032**\n",
    "- Alejandro Jesús Vázquez Navarro **A01793146**\n",
    "\n",
    "---\n",
    "\n",
    "#### 1. Conjunto de datos para este módulo de aprendizaje:\n",
    "\n",
    "Esta actividad requiere un dataset enfocado a lo social, ambiental o económico.\n",
    "\n",
    "El dataset seleccionado se trata de una muestra de las casas en Toluca, Estado de México."
   ]
  },
  {
   "cell_type": "markdown",
   "metadata": {},
   "source": [
    "#### 2. Redacción de una página, en jupyter notebook, como máximo que incluya lo siguiente:\n",
    "\n",
    "- 2.1 **Nombre que caracteriza al conjunto de datos:**\n",
    "> Casa_toluca.csv \n",
    ">\n",
    "<br/><br/>\n",
    "\n",
    "\n",
    "\n",
    "- 2.2 **La organización que lo generó:**\n",
    "> Es una base de datos generada por un usuario en Kaggle mediante webscrapping usando la herramienta BeautifulSoup\n",
    ">\n",
    "<br/><br/>\n",
    "\n",
    "\n",
    "\n",
    "- 2.3 **Incluya un enlace de Internet donde se puedan descargar el base de datos en línea:**\n",
    "> El conjunto de datos se obtuvo de la siguiente liga: https://www.kaggle.com/datasets/jeanpierrebetancourt/houses-price-web-scraping-mexico\n",
    ">\n",
    "<br/><br/>\n",
    "\n",
    "\n",
    "\n",
    "- 2.4 **Describe el conjunto de datos, ¿qué datos contiene?**\n",
    "\n",
    "> Este conjunto de datos contiene las siguientes variables:\n",
    "\n",
    "| Ubicación | Area | Baños | Habitaciones | Precio | \n",
    "| ----------| -----| ------| ------------ | ------ |\n",
    "| Lugar aproximado del bien | área en m2 | Número de Baños | Número de Habitaciones | Precio en USD |\n",
    "\n",
    "\n",
    "> - Ubicación: Texto\n",
    "> - Area: float\n",
    "> - Baños: integer\n",
    "> - Habitaciones: integer\n",
    "> - Precio: float\n",
    "\n",
    "> **Muestra del tipo de datos:**\n",
    "\n",
    "| Ubicación | Area | Baños | Habitaciones | Precio | \n",
    "| ----------| -----| ------| ------------ | ------ |\n",
    "| Casa en Venta Marie Curie #303 , Toluca De Lerdo, México | 245.0 | 5 | 3 | 192,822 |\n",
    "| Casa en Venta Tomas Alba Edison , Científicos, Toluca De Lerdo | 216.0 | 2 | 4 | 127,500 |\n",
    "| Casa en Venta Toluca De Lerdo, México | 700.0 | 3 | 3 | 325,000 |\n",
    "\n",
    "<br/><br/>\n",
    "\n",
    "- 2.5 **¿Cuáles son algunas de las preguntas de investigación que podría responder con estos datos? Enumere al menos OCHO (no responda las preguntas)**\n",
    "\n",
    ">\n",
    ">1. ¿Cuál es la importancia del número de baños en el precio de venta?\n",
    ">2. ¿Cuál es la importancia del número de habitaciones en el precio de venta?\n",
    ">3. ¿Cuál es la importancia del área total con respecto al precio de venta?\n",
    ">4. ¿Cuál es la relación baños / habitaciones y cómo impacta en el precio de venta?\n",
    ">5. ¿Cuál es la zona con el precio más alto de venta?\n",
    ">6. ¿Cuántos niveles de precio existen?\n",
    ">7. ¿Cuál es el promedio del metro cuadrado en cada nivel de precio?\n",
    ">8. ¿Cuáles son los deciles de precio en general?\n",
    ">9. ¿Cuál es el salario promedio en Toluca? \n",
    ">10. De acuerdo al salario promedio, ¿cuántos años tendría que trabajar un trabajador que gana 1 salario mínimo para adquirir una casa que se encuentra en el decil más bajo?\n",
    "\n",
    "- 2.6 **¿Qué actor (empresa, sector de la sociedad, organismo descentralizado, gobierno, etc.) estaría interesado en las preguntas mencionadas que identificó?**\n",
    "\n",
    "> Definitivamente cualquier compañía enfocada a la industria de Bienes y Raíces (Real State) ya que podría identificar tendencias de precios y qué variables están afectando al mercado para aumentar o disminuir el precio."
   ]
  }
 ],
 "metadata": {
  "kernelspec": {
   "display_name": "Python 3.10.6 64-bit (microsoft store)",
   "language": "python",
   "name": "python3"
  },
  "language_info": {
   "name": "python",
   "version": "3.10.6"
  },
  "orig_nbformat": 4,
  "vscode": {
   "interpreter": {
    "hash": "32a3e530000ba53acf1932123aae5e6f99e69a5f3504c7f27c942507bf3b5c74"
   }
  }
 },
 "nbformat": 4,
 "nbformat_minor": 2
}
