{
  "cells": [
    {
      "cell_type": "markdown",
      "metadata": {
        "id": "view-in-github",
        "colab_type": "text"
      },
      "source": [
        "<a href=\"https://colab.research.google.com/github/PosgradoMNA/actividades-del-projecto-equipo_62/blob/main/Reto2/Reto2_Equipo62.ipynb\" target=\"_parent\"><img src=\"https://colab.research.google.com/assets/colab-badge.svg\" alt=\"Open In Colab\"/></a>"
      ]
    },
    {
      "cell_type": "markdown",
      "metadata": {
        "id": "QbOJWpi205qn"
      },
      "source": [
        "# Reto 2 - Clasificación-ensambles y presentación ejecutiva\n",
        "## Ciencia y analítica de datos \n",
        "\n",
        "## Equipo 62\n",
        "#### Integrantes:\n",
        "- Ricardo Morales Bustillos - **A01740032**\n",
        "- Alejandro Jesús Vázquez Navarro - **A01793146**\n",
        "\n",
        "#### Profesora: Dra. María de la Paz Rico Fernández\n",
        "\n",
        "#### 15 de noviembre de 2022\n"
      ]
    },
    {
      "cell_type": "markdown",
      "metadata": {
        "id": "CXEaJOmU05qr"
      },
      "source": [
        "- Selecciona tus variables independientes X y dependiente Y (semáforo)\n",
        "- Cambia a label encoding el semáforo, ej, de [\"clase 1\", \"clase 2\", \"clase 3\"] a [ 1,2,3]\n",
        "- Realiza un análisis general de las features importances a traves de decision trees o random forest.\n",
        "- Selecciona las variables de mayor importancia.\n",
        "- Realiza tu clasificador, recuerda dividir los datos de manera balanceada (auxiliate de train test split)\n",
        "- Explora que clasificador es el más optimo, ejemplo:\n",
        "- Decision trees\n",
        "- Random Forest.\n",
        "- Determina el grado de exactitud a través del reporte de clasificación y análisis de la gráfica de Precision Recall.\n",
        "- Visualiza los resultados del modelo o las predicciones a través de una matriz de confusión.\n",
        "- Realiza un reporte de los principales hallazgos y conclusiones del experimento e incluyelos en una presentación ejecutiva de 10 diapositivas. La presentación deberá incluir todos los pasos del pipeline seguidos, limpieza, análisis, kmeans, clasificación, resultados y conclusiones."
      ]
    },
    {
      "cell_type": "markdown",
      "metadata": {
        "id": "ySR5nFUQ05qs"
      },
      "source": [
        "### Preparación"
      ]
    },
    {
      "cell_type": "code",
      "execution_count": null,
      "metadata": {
        "id": "JlO44KCa05qt"
      },
      "outputs": [],
      "source": [
        "# Carga de librerías necesarias\n",
        "\n",
        "import pandas as pd\n",
        "import numpy as np\n",
        "\n",
        "\n",
        "# Para visualización\n",
        "\n",
        "%matplotlib inline\n",
        "import warnings\n",
        "warnings.filterwarnings('ignore')\n",
        "import matplotlib.pyplot as plt\n",
        "import seaborn as sns\n",
        "\n",
        "# Para la imputación de datos:\n",
        "from sklearn.impute import SimpleImputer\n",
        "\n",
        "# Para escalar los datos:\n",
        "from sklearn.preprocessing import MinMaxScaler, StandardScaler, OneHotEncoder, LabelEncoder\n",
        "from sklearn.compose import ColumnTransformer\n",
        "from sklearn.model_selection import ParameterGrid\n",
        "\n",
        "# Para el split\n",
        "from sklearn.model_selection import train_test_split \n",
        "\n",
        "# Para el reporte de clasificacion\n",
        "from sklearn.metrics import classification_report\n",
        "\n",
        "\n",
        "# Para cálculo de intercuartiles\n",
        "from scipy.stats import iqr\n",
        "\n",
        "# Para PCA\n",
        "from sklearn.decomposition import PCA\n",
        "\n",
        "# Para Kmeans\n",
        "from sklearn.cluster import KMeans\n",
        "from yellowbrick.cluster import KElbowVisualizer, SilhouetteVisualizer\n",
        "from yellowbrick.classifier import PrecisionRecallCurve\n",
        "\n",
        "\n",
        "# Para DecisionTreeClassifier\n",
        "from sklearn.tree import DecisionTreeClassifier\n",
        "from sklearn import tree\n",
        "\n",
        "\n",
        "# Para RandomForestClassifier \n",
        "from sklearn.ensemble import RandomForestClassifier\n",
        "\n",
        "\n",
        "# Para las curvas de aprendizaje\n",
        "from sklearn.model_selection import learning_curve, validation_curve\n",
        "\n",
        "# Para los pipelines\n",
        "from sklearn.pipeline import Pipeline\n",
        "from sklearn.pipeline import make_pipeline\n",
        "from sklearn.compose import make_column_transformer\n",
        "\n",
        "# Para la validación cruzada\n",
        "from sklearn.model_selection import cross_val_score, cross_validate\n",
        "from sklearn.model_selection import RepeatedStratifiedKFold\n",
        "\n",
        "# Para el fine tuning\n",
        "from sklearn.model_selection import GridSearchCV\n",
        "\n",
        "# Para las métricas\n",
        "from sklearn import metrics \n",
        "\n",
        "#Para probar las métricas\n",
        "from sklearn.metrics import classification_report, make_scorer\n",
        "from sklearn.metrics import confusion_matrix, f1_score, recall_score, precision_score\n",
        "\n",
        "# Para la ROC y la Precision - Recall Curve\n",
        "from sklearn.metrics import RocCurveDisplay   \n",
        "from sklearn.metrics import PrecisionRecallDisplay\n",
        "from sklearn.metrics import precision_recall_curve\n",
        "from sklearn.metrics import roc_curve\n",
        "\n",
        "# Para las gráficas de mapa\n",
        "import geopandas as gpd\n",
        "import matplotlib.pyplot as plt\n",
        "import pandas as pd\n",
        "import geoplot.crs as gcrs\n",
        "import geoplot as gplt\n",
        "import mapclassify as mc\n",
        "from sklearn.tree import export_graphviz\n",
        "\n",
        "from graphviz import Source\n",
        "\n",
        "from shapely.geometry import Point\n",
        "\n",
        "# Para tabulación\n",
        "from tabulate import tabulate"
      ]
    },
    {
      "cell_type": "code",
      "execution_count": null,
      "metadata": {
        "id": "OOWoSex205qv"
      },
      "outputs": [],
      "source": [
        "# Variables\n",
        "path = r\"C:\\Users\\aleja\\Jupyter Notebooks\\maestria\\CdD\\Retos\\Entrega1\\Datos_de_calidad_del_agua_2020\"\n",
        "filedb = r\"Datos_de_calidad_del_agua_de_sitios_de_monitoreo_de_aguas_superficiales_2020.csv\"\n",
        "\n",
        "filePath = path + \"\\\\\" + filedb\n",
        "\n",
        "DEBUG = False"
      ]
    },
    {
      "cell_type": "code",
      "execution_count": null,
      "metadata": {
        "id": "_-32ZxEO05qw"
      },
      "outputs": [],
      "source": [
        "# Funciones\n",
        "\n",
        "def limpieza_caracteres(df, campos):\n",
        "    \n",
        "    for i in campos:\n",
        "        df[i] = df[i].str.replace('<', '')\n",
        "        \n",
        "    return df\n",
        "\n",
        "def correlation_heatmap(dataframe,l,w):\n",
        "    #correlations = dataframe.corr()\n",
        "    correlation = dataframe.corr()\n",
        "    plt.figure(figsize=(l,w))\n",
        "    sns.heatmap(correlation, vmax=1, square=True,annot=True,cmap='viridis')\n",
        "    plt.title('Correlation between different fearures')\n",
        "    plt.show();\n",
        "    \n",
        "\n",
        "def KMeans_cluster(data, k):\n",
        "    my_kmeans = KMeans(n_clusters= k)\n",
        "    my_kmeans.fit(data) \n",
        "    clusters = my_kmeans.predict(data) \n",
        "    centroids = my_kmeans.cluster_centers_\n",
        "    return clusters,  pd.DataFrame(centroids)\n",
        "\n",
        "\n",
        "#####################################################\n",
        "#           FUNCIONES AD HOC METRICAS               #\n",
        "#####################################################\n",
        "\n",
        "\n",
        "# Celda de métricas\n",
        "\n",
        "def nues_accuracy(yreal,ypred):\n",
        "  cm = confusion_matrix(yreal,ypred).ravel()\n",
        "  vn, fp, fn, vp = cm[0], cm[1], cm[2], cm[3]\n",
        "  accuracy = (vp + vn) / (vn + fp + fn + vp)\n",
        "  return accuracy\n",
        "\n",
        "def nues_precision(yreal,ypred):\n",
        "  cm = confusion_matrix(yreal,ypred).ravel()\n",
        "  vn, fp, fn, vp = cm[0], cm[1], cm[2], cm[3]\n",
        "  precision = vp / (vp + fp)\n",
        "  return precision\n",
        "\n",
        "def nues_recall(yreal,ypred):\n",
        "  cm = confusion_matrix(yreal,ypred).ravel()\n",
        "  vn, fp, fn, vp = cm[0], cm[1], cm[2], cm[3]\n",
        "  recall = vp / (vp + fn)\n",
        "  return recall\n",
        "\n",
        "def nues_f1score(yreal,ypred):\n",
        "  cm = confusion_matrix(yreal,ypred).ravel()\n",
        "  vn, fp, fn, vp = cm[0], cm[1], cm[2], cm[3]\n",
        "  f1score = (2*vp) / (2*vp + fp + fn)\n",
        "  return f1score\n",
        "\n",
        "def nues_gmean(yreal,ypred):\n",
        "  cm = confusion_matrix(yreal,ypred).ravel()\n",
        "  vn, fp, fn, vp = cm[0], cm[1], cm[2], cm[3]\n",
        "  recall,specifity = vp / (vp + fn), vn / (vn + fp)\n",
        "  gmean =  np.sqrt(recall*specifity)\n",
        "  return gmean\n",
        "\n",
        "##################################################\n",
        "#              FÁBRICA DE MODELOS                #\n",
        "# ################################################\n",
        " \n",
        "def get_models():\n",
        "\n",
        "    modelos = list()\n",
        "    nombres = list()\n",
        "\n",
        "  # DT - Árbol de Decisión:\n",
        "    modelos.append(DecisionTreeClassifier())\n",
        "    nombres.append('DT')\n",
        "  \n",
        "  # RF - Random Forest:\n",
        "    modelos.append(RandomForestClassifier())\n",
        "    nombres.append('RF')  \n",
        "\n",
        "    return modelos, nombres\n",
        "\n",
        "################################################\n",
        "#            CURVAS DE APRENDIZAJE             #\n",
        "################################################\n",
        "\n",
        "\n",
        "# Funciones de ayuda para la learning curve\n",
        "def mi_LearningCurvePlot(metrica, train_sizes, train_scores, val_scores):\n",
        "\n",
        "    train_mean = np.mean(train_scores, axis=1)\n",
        "    train_std = np.std(train_scores, axis=1)\n",
        "    val_mean = np.mean(val_scores, axis=1)\n",
        "    val_std = np.std(val_scores, axis=1)\n",
        "\n",
        "    plt.figure(figsize=(7,6))\n",
        "    plt.plot(train_sizes, train_mean, color='blue', marker='o', markersize=5, label='Training')\n",
        "    plt.fill_between(train_sizes, train_mean + train_std, train_mean - train_std, alpha=0.1, color='blue')\n",
        "    \n",
        "    plt.plot(train_sizes, val_mean, color='red', marker='+', markersize=5, linestyle='--', label='Validation')\n",
        "    plt.fill_between(train_sizes, val_mean + val_std, val_mean - val_std, alpha=0.1, color='red')\n",
        "    \n",
        "    plt.title('Curvas de Aprendizaje incrementando el tamaño de la muestra')\n",
        "    plt.xlabel('Tamaño del conjunto de entrenamiento')\n",
        "    plt.ylabel(metrica)\n",
        "    plt.grid()\n",
        "    plt.legend(loc='lower left')\n",
        "    plt.show()\n",
        "    "
      ]
    },
    {
      "cell_type": "markdown",
      "metadata": {
        "id": "ZDDATh3o05qx"
      },
      "source": [
        "### Adquisición de datos"
      ]
    },
    {
      "cell_type": "code",
      "execution_count": null,
      "metadata": {
        "id": "QMcqCbow05qy"
      },
      "outputs": [],
      "source": [
        "# Adquisición de datos\n",
        "\n",
        "dfMain = pd.read_csv(filePath)\n",
        "dfMain.head()\n",
        "\n",
        "\n",
        "y = dfMain[\"SEMAFORO\"]\n",
        "lat = dfMain[\"LATITUD\"]\n",
        "long = dfMain[\"LONGITUD\"]\n",
        "\n",
        "coordenadas = dfMain[[\"LATITUD\", \"LONGITUD\"]]"
      ]
    },
    {
      "cell_type": "markdown",
      "metadata": {
        "id": "OneEjFVL05qz"
      },
      "source": [
        "### Limpieza de datos \n",
        "\n",
        "Debido a que los datos ya los hemos limpiado y preparado en el **Reto 1** en este reto no realizaremos el análisis completo de la limpieza, solo aplicaremos las rutinas de limpieza y tratamiento de datos en una sola celda."
      ]
    },
    {
      "cell_type": "code",
      "execution_count": null,
      "metadata": {
        "id": "I224-vhQ05qz",
        "outputId": "e2aa6f61-364d-40d3-c58c-9b1ca1e9bf5e"
      },
      "outputs": [
        {
          "name": "stdout",
          "output_type": "stream",
          "text": [
            "La forma del dataset dfMain4 es (3493, 42)\n",
            "Una inspección rápida de la calidad del dataframe ORGANISMO_DE_CUENCA       0\n",
            "LONGITUD                  0\n",
            "LATITUD                   0\n",
            "SEMAFORO                  0\n",
            "CUMPLE_CON_DBO            0\n",
            "CUMPLE_CON_DQO            0\n",
            "CUMPLE_CON_SST            0\n",
            "CUMPLE_CON_CF             0\n",
            "CUMPLE_CON_E_COLI         0\n",
            "CUMPLE_CON_ENTEROC        0\n",
            "CUMPLE_CON_OD             0\n",
            "CUMPLE_CON_TOX            0\n",
            "GRUPO                     0\n",
            "DBO_mg/L                  0\n",
            "DQO_mg/L                  0\n",
            "SST_mg/L                  0\n",
            "COLI_FEC_NMP_100mL        0\n",
            "E_COLI_NMP_100mL          0\n",
            "ENTEROC_NMP_100mL         0\n",
            "OD_PORC                   0\n",
            "OD_PORC_SUP               0\n",
            "OD_PORC_MED               0\n",
            "OD_PORC_FON               0\n",
            "TOX_D_48_UT               0\n",
            "TOX_V_15_UT               0\n",
            "TOX_D_48_SUP_UT           0\n",
            "TOX_FIS_SUP_15_UT         0\n",
            "SUBTIPO                   0\n",
            "CALIDAD_DBO               0\n",
            "CALIDAD_DQO               0\n",
            "CALIDAD_SST               0\n",
            "CALIDAD_COLI_FEC          0\n",
            "CALIDAD_E_COLI            0\n",
            "CALIDAD_ENTEROC           0\n",
            "CALIDAD_OD_PORC           0\n",
            "CALIDAD_OD_PORC_SUP       0\n",
            "CALIDAD_OD_PORC_MED       0\n",
            "CALIDAD_OD_PORC_FON       0\n",
            "CALIDAD_TOX_D_48          0\n",
            "CALIDAD_TOX_V_15          0\n",
            "CALIDAD_TOX_D_48_SUP      0\n",
            "CALIDAD_TOX_FIS_SUP_15    0\n",
            "dtype: int64\n"
          ]
        }
      ],
      "source": [
        "# Solo para entender la distribución de algunas variables que tenían el caracter \">\", realizamos\n",
        "# este análisis de histograma\n",
        "\n",
        "dfMain = dfMain.replace('<', '', regex=True)\n",
        "\n",
        "# Debido a que las variables TOX_D_48_FON_UT, CALIDAD_TOX_D_48_FON, TOX_FIS_FON_15_UT, CALIDAD_TOX_FIS_FON_15 \n",
        "# no tienen datos, las eliminaremos\n",
        "# También eliminaré PERIODO pues todo es del 2020\n",
        "# Se elimina CLAVE, no tiene sentido porque es un identificador\n",
        "# Se elimina SITIO porque se convertirían en 12 columnas en OneHot\n",
        "# Se elimina ESTADO porque ya tenemos las coordenadas y nos quitamos de 32 columnas OneHot\n",
        "# Se elimina MUNICIPIO pues son 752 municipios que tendríamos que convertir en 752 columnas\n",
        "# lo cual convertiría nuestro dataset en algo inmanehable en una laptop\n",
        "# Se elimina CUENCA pues se convertiría en e506 columnas\n",
        "# Se elimina CUERPO DE AGUA pues sería 1056 columnas extras\n",
        "# Se elimina TIPO pues existe una columna GRUPO muy similar\n",
        "# Contaminantes también se elimina pues está redundante la información en otras columnas\n",
        "\n",
        "colsEliminiar = [\"CLAVE\", \"PERIODO\", \"SITIO\", \"ESTADO\", \"MUNICIPIO\", \"CUENCA\", \"CUERPO DE AGUA\", \n",
        "\"TIPO\", \"TOX_D_48_FON_UT\",\"CALIDAD_TOX_D_48_FON\", \"TOX_FIS_FON_15_UT\", \"CONTAMINANTES\", \"CALIDAD_TOX_FIS_FON_15\"]\n",
        "\n",
        "\n",
        "\n",
        "dfMain.drop(columns = colsEliminiar, inplace=True)\n",
        "\n",
        "\n",
        "camposLimpiarCaracter = [\"DBO_mg/L\", \"DQO_mg/L\", \"SST_mg/L\", \"COLI_FEC_NMP_100mL\", \"E_COLI_NMP_100mL\",\n",
        "                         \"ENTEROC_NMP_100mL\", \"OD_PORC\", \"OD_PORC_SUP\", \"OD_PORC_MED\", \"OD_PORC_FON\", \n",
        "                         \"TOX_D_48_UT\", \"TOX_V_15_UT\", \"TOX_D_48_SUP_UT\", \"TOX_FIS_SUP_15_UT\"]\n",
        "\n",
        "\n",
        "# Realizamos una copia del dfMain\n",
        "dfLimpieza01 = dfMain.copy()\n",
        "\n",
        "# Almacenamos los campos en una variable X\n",
        "X = dfLimpieza01[camposLimpiarCaracter] \n",
        "\n",
        "imputer = SimpleImputer(missing_values=np.nan, strategy='median', verbose=1)\n",
        "\n",
        "# Rellenamos los NaN con mediana\n",
        "transformed_values = imputer.fit_transform(X)\n",
        "\n",
        "column = X.columns\n",
        "\n",
        "dfLimpiezaA = pd.DataFrame(transformed_values, columns = column )\n",
        "\n",
        "# Por las magnitudes de las variables es necesario escalaras:\n",
        "# Realizamos una copia del dfMain\n",
        "dfLimpieza02 = dfLimpiezaA.copy()\n",
        "\n",
        "# Almacenamos los campos en una variable X\n",
        "X = dfLimpieza02[camposLimpiarCaracter] \n",
        "\n",
        "scaler = MinMaxScaler()\n",
        "\n",
        "# Escalamos\n",
        "scaled = scaler.fit_transform(X)\n",
        "\n",
        "column = X.columns\n",
        "\n",
        "dfLimpiezaB = pd.DataFrame(scaled, columns = column )\n",
        "    \n",
        "dfMain = dfMain.drop(columns=camposLimpiarCaracter)\n",
        "\n",
        "dfLimpiezaC = pd.concat([dfMain, dfLimpiezaB], axis=1)\n",
        "\n",
        "dfMain2 = dfLimpiezaC.copy()\n",
        "camposNulos = dfMain2.isnull().sum()\n",
        "\n",
        "\n",
        "categoricas = [\"SUBTIPO\", \"CALIDAD_DBO\", \"CALIDAD_DQO\", \"CALIDAD_SST\",\n",
        "              \"CALIDAD_COLI_FEC\", \"CALIDAD_E_COLI\", \"CALIDAD_ENTEROC\", \"CALIDAD_OD_PORC\",  \"CALIDAD_OD_PORC_SUP\",\n",
        "               \"CALIDAD_OD_PORC_MED\", \"CALIDAD_OD_PORC_FON\", \"CALIDAD_TOX_D_48\", \"CALIDAD_TOX_V_15\", \n",
        "               \"CALIDAD_TOX_D_48_SUP\", \"CALIDAD_TOX_FIS_SUP_15\"]\n",
        "\n",
        "X = dfMain2[categoricas] \n",
        "\n",
        "imputer = SimpleImputer(missing_values=np.nan, strategy='most_frequent')\n",
        "transformed_values = imputer.fit_transform(X)\n",
        "\n",
        "column = X.columns\n",
        "\n",
        "dfLimpiezaD = pd.DataFrame(transformed_values, columns = column )\n",
        "\n",
        "dfMain3 = dfMain2.drop(columns=categoricas)\n",
        "\n",
        "dfLimpiezaE= pd.concat([dfMain3,dfLimpiezaD], axis=1)\n",
        "\n",
        "dfMain4 =  dfLimpiezaE.copy()\n",
        "\n",
        "#Elegir con cuáles columnas nos quedaremos y qué tratamiento le daremos\n",
        "\n",
        "colCategoricas = [\"SUBTIPO\", \"CALIDAD_DBO\", \"CALIDAD_DQO\", \"ORGANISMO_DE_CUENCA\", \"SUBTIPO\", \"CALIDAD_SST\", \"CALIDAD_COLI_FEC\", \"CALIDAD_E_COLI\",\n",
        "                 \"CALIDAD_ENTEROC\", \"CALIDAD_OD_PORC\", \"CALIDAD_OD_PORC_SUP\", \"CALIDAD_OD_PORC_MED\", \"CALIDAD_OD_PORC_FON\",\n",
        "                 \"CALIDAD_TOX_D_48\", \"CALIDAD_TOX_V_15\", \"CALIDAD_TOX_D_48_SUP\", \"CALIDAD_TOX_FIS_SUP_15\",\n",
        "                  \"CUMPLE_CON_DBO\",\"CUMPLE_CON_DQO\",\"CUMPLE_CON_SST\",\"CUMPLE_CON_CF\",\n",
        "                  \"CUMPLE_CON_E_COLI\",\"CUMPLE_CON_ENTEROC\",\"CUMPLE_CON_OD\",\"CUMPLE_CON_TOX\",\"GRUPO\"\n",
        "                 ]\n",
        "\n",
        "colNumericas = [\"COLI_FEC_NMP_100mL\",\"DBO_mg/L\",\"DQO_mg/L\",\"ENTEROC_NMP_100mL\",\"E_COLI_NMP_100mL\",\n",
        "                \"OD_PORC\",\"OD_PORC_FON\",\"OD_PORC_MED\",\"OD_PORC_SUP\",\"SST_mg/L\",\n",
        "                \"TOX_D_48_SUP_UT\",\n",
        "                \"TOX_D_48_UT\",\"TOX_FIS_SUP_15_UT\",\"TOX_V_15_UT\"]\n",
        "\n",
        "colLatitudLongitud= [\"LONGITUD\", \"LATITUD\"]\n",
        "\n",
        "print(f\"La forma del dataset dfMain4 es {dfMain4.shape}\")\n",
        "print(f\"Una inspección rápida de la calidad del dataframe {dfMain4.isnull().sum()}\")\n"
      ]
    },
    {
      "cell_type": "code",
      "execution_count": null,
      "metadata": {
        "id": "Fh-zO4AL05q1",
        "outputId": "15082b79-f475-4187-b2d1-717d58b2f9f3"
      },
      "outputs": [
        {
          "data": {
            "text/plain": [
              "Index(['ORGANISMO_DE_CUENCA', 'LONGITUD', 'LATITUD', 'SEMAFORO',\n",
              "       'CUMPLE_CON_DBO', 'CUMPLE_CON_DQO', 'CUMPLE_CON_SST', 'CUMPLE_CON_CF',\n",
              "       'CUMPLE_CON_E_COLI', 'CUMPLE_CON_ENTEROC', 'CUMPLE_CON_OD',\n",
              "       'CUMPLE_CON_TOX', 'GRUPO', 'DBO_mg/L', 'DQO_mg/L', 'SST_mg/L',\n",
              "       'COLI_FEC_NMP_100mL', 'E_COLI_NMP_100mL', 'ENTEROC_NMP_100mL',\n",
              "       'OD_PORC', 'OD_PORC_SUP', 'OD_PORC_MED', 'OD_PORC_FON', 'TOX_D_48_UT',\n",
              "       'TOX_V_15_UT', 'TOX_D_48_SUP_UT', 'TOX_FIS_SUP_15_UT', 'SUBTIPO',\n",
              "       'CALIDAD_DBO', 'CALIDAD_DQO', 'CALIDAD_SST', 'CALIDAD_COLI_FEC',\n",
              "       'CALIDAD_E_COLI', 'CALIDAD_ENTEROC', 'CALIDAD_OD_PORC',\n",
              "       'CALIDAD_OD_PORC_SUP', 'CALIDAD_OD_PORC_MED', 'CALIDAD_OD_PORC_FON',\n",
              "       'CALIDAD_TOX_D_48', 'CALIDAD_TOX_V_15', 'CALIDAD_TOX_D_48_SUP',\n",
              "       'CALIDAD_TOX_FIS_SUP_15'],\n",
              "      dtype='object')"
            ]
          },
          "execution_count": 362,
          "metadata": {},
          "output_type": "execute_result"
        }
      ],
      "source": [
        "dfMain4.columns"
      ]
    },
    {
      "cell_type": "markdown",
      "metadata": {
        "id": "aHuVa-ew05q3"
      },
      "source": [
        "Hasta este momento hemos eliminado los nulos y escalado los datos."
      ]
    },
    {
      "cell_type": "markdown",
      "metadata": {
        "id": "12BVdHaR05q3"
      },
      "source": [
        "#### Selecciona tus variables independientes X y dependiente Y (semáforo)"
      ]
    },
    {
      "cell_type": "code",
      "execution_count": null,
      "metadata": {
        "id": "LH0MwhWE05q3",
        "outputId": "109fbfa5-443f-4146-c514-c1d9ac85e3f6"
      },
      "outputs": [
        {
          "name": "stdout",
          "output_type": "stream",
          "text": [
            "Verificar forma del vector de X (3493, 39)\n",
            "Verificar y       SEMAFORO\n",
            "0         Rojo\n",
            "1         Rojo\n",
            "2         Rojo\n",
            "3     Amarillo\n",
            "4         Rojo\n",
            "...        ...\n",
            "3488  Amarillo\n",
            "3489  Amarillo\n",
            "3490      Rojo\n",
            "3491  Amarillo\n",
            "3492  Amarillo\n",
            "\n",
            "[3493 rows x 1 columns]\n",
            "Verificar dfMain (3493, 42)\n"
          ]
        }
      ],
      "source": [
        "# También quitaremos PERIODO, LATITUD y LONGITUD pues no ofrecen poder predictivo.\n",
        "\n",
        "X = dfMain4[dfMain4.columns.difference([\"SEMAFORO\", \"LATITUD\", \"LONGITUD\", \"CLAVE\"])]\n",
        "y = dfMain4[[\"SEMAFORO\"]]\n",
        "\n",
        "print(f'Verificar forma del vector de X {X.shape}')\n",
        "print(f'Verificar y {y}')\n",
        "print(f'Verificar dfMain {dfMain4.shape}')"
      ]
    },
    {
      "cell_type": "code",
      "execution_count": null,
      "metadata": {
        "id": "IN5SSkLN05q4"
      },
      "outputs": [],
      "source": []
    },
    {
      "cell_type": "markdown",
      "metadata": {
        "id": "tT3ZQzcb05q4"
      },
      "source": [
        "Tenemos 39 características para X más y = 40 columnas para el dataframe llamado dfMain4"
      ]
    },
    {
      "cell_type": "markdown",
      "metadata": {
        "id": "HLNONYqp05q5"
      },
      "source": [
        "#### Cambia a label encoding el semáforo, ej, de [\"clase 1\", \"clase 2\", \"clase 3\"] a [ 1,2,3]\n"
      ]
    },
    {
      "cell_type": "code",
      "execution_count": null,
      "metadata": {
        "id": "E7xPto6x05q5",
        "outputId": "98ba45fd-f155-4e03-ad4e-fe6ac83aba27"
      },
      "outputs": [
        {
          "data": {
            "text/html": [
              "<div>\n",
              "<style scoped>\n",
              "    .dataframe tbody tr th:only-of-type {\n",
              "        vertical-align: middle;\n",
              "    }\n",
              "\n",
              "    .dataframe tbody tr th {\n",
              "        vertical-align: top;\n",
              "    }\n",
              "\n",
              "    .dataframe thead th {\n",
              "        text-align: right;\n",
              "    }\n",
              "</style>\n",
              "<table border=\"1\" class=\"dataframe\">\n",
              "  <thead>\n",
              "    <tr style=\"text-align: right;\">\n",
              "      <th></th>\n",
              "      <th>SEMAFORO</th>\n",
              "    </tr>\n",
              "  </thead>\n",
              "  <tbody>\n",
              "    <tr>\n",
              "      <th>0</th>\n",
              "      <td>1</td>\n",
              "    </tr>\n",
              "    <tr>\n",
              "      <th>1</th>\n",
              "      <td>1</td>\n",
              "    </tr>\n",
              "    <tr>\n",
              "      <th>2</th>\n",
              "      <td>1</td>\n",
              "    </tr>\n",
              "    <tr>\n",
              "      <th>3</th>\n",
              "      <td>0</td>\n",
              "    </tr>\n",
              "    <tr>\n",
              "      <th>4</th>\n",
              "      <td>1</td>\n",
              "    </tr>\n",
              "  </tbody>\n",
              "</table>\n",
              "</div>"
            ],
            "text/plain": [
              "   SEMAFORO\n",
              "0         1\n",
              "1         1\n",
              "2         1\n",
              "3         0\n",
              "4         1"
            ]
          },
          "execution_count": 364,
          "metadata": {},
          "output_type": "execute_result"
        }
      ],
      "source": [
        "\n",
        "lbEncoder = LabelEncoder()\n",
        "\n",
        "\n",
        "df_encoded = y.apply(lbEncoder.fit_transform)\n",
        "df_encoded.head() \n"
      ]
    },
    {
      "cell_type": "markdown",
      "metadata": {
        "id": "VlzGgdWo05q5"
      },
      "source": [
        "#### Realiza un análisis general de las features importances a traves de decision trees o random forest.\n"
      ]
    },
    {
      "cell_type": "code",
      "execution_count": null,
      "metadata": {
        "id": "7ZlYtgnU05q6",
        "outputId": "65a243d8-314d-4430-da71-7dfc1eb42f3c"
      },
      "outputs": [
        {
          "name": "stdout",
          "output_type": "stream",
          "text": [
            "Longitud de la lista de columnas categóricas 25\n",
            "Longitud de la lista de columnas numéricas 14\n",
            "Longitud total 39\n"
          ]
        }
      ],
      "source": [
        "# Las variables categóricas necesitamos pasarlas a OneHotEncoding, eliminarlas del dfMain4 y después \n",
        "# incorporarlas al dfMain4 de variables numéricas para que toda la matriz nos quede con datos\n",
        "# de tipo numérico\n",
        "\n",
        "categoricas =  ['CALIDAD_TOX_D_48_SUP', 'CALIDAD_COLI_FEC', 'CALIDAD_DBO', \n",
        "'CALIDAD_DQO','CALIDAD_ENTEROC', 'CALIDAD_E_COLI', 'CALIDAD_OD_PORC', \n",
        "'CALIDAD_OD_PORC_FON','CALIDAD_OD_PORC_MED', 'CALIDAD_OD_PORC_SUP', \n",
        "'CALIDAD_SST', 'CALIDAD_TOX_D_48', 'CALIDAD_TOX_FIS_SUP_15', \n",
        "'CALIDAD_TOX_V_15', 'CUMPLE_CON_CF', \n",
        "'CUMPLE_CON_DBO', 'CUMPLE_CON_DQO', 'CUMPLE_CON_ENTEROC',\n",
        "'CUMPLE_CON_E_COLI', 'CUMPLE_CON_OD', 'CUMPLE_CON_SST',\n",
        "'CUMPLE_CON_TOX', 'GRUPO', 'ORGANISMO_DE_CUENCA', 'SUBTIPO']\n",
        "\n",
        "\n",
        "numericas = set(X.columns).difference(set(categoricas))  \n",
        "\n",
        "print(f'Longitud de la lista de columnas categóricas {len(categoricas)}')\n",
        "print(f'Longitud de la lista de columnas numéricas {len(numericas)}')\n",
        "print(f'Longitud total {len(categoricas) + len(numericas)}')\n",
        "\n"
      ]
    },
    {
      "cell_type": "markdown",
      "metadata": {
        "id": "i4maEWsk05q6"
      },
      "source": [
        "Transformemos las columnas categóricas en OneHotEncoder en un pipeline con RandomForestClassifer. Las numéricas ya están escaladas"
      ]
    },
    {
      "cell_type": "code",
      "execution_count": null,
      "metadata": {
        "id": "CEd1GfCA05q6"
      },
      "outputs": [],
      "source": [
        "\n",
        "one_hot_encoded_data = pd.get_dummies(X, columns = categoricas)\n",
        "X_features = one_hot_encoded_data\n",
        "y_dependent = df_encoded[\"SEMAFORO\"]\n",
        "\n",
        "#X_features.to_csv(\"borrar.csv\")\n",
        "\n"
      ]
    },
    {
      "cell_type": "markdown",
      "metadata": {
        "id": "p_Ixv7Xe05q7"
      },
      "source": [
        "#### Características más importantes en el modelo:"
      ]
    },
    {
      "cell_type": "code",
      "execution_count": null,
      "metadata": {
        "id": "fmHsAl-i05q7",
        "outputId": "30de295e-04dd-431d-e96d-b2827056854f"
      },
      "outputs": [
        {
          "name": "stdout",
          "output_type": "stream",
          "text": [
            "Las 10 características más importantes\n",
            "############################################################\n",
            "              Feature  Importance  rank\n",
            "2            DQO_mg/L    9.548584   1.0\n",
            "0  COLI_FEC_NMP_100mL    5.653605   2.0\n",
            "4    E_COLI_NMP_100mL    2.652755   3.0\n",
            "1            DBO_mg/L    2.385129   4.0\n",
            "3   ENTEROC_NMP_100mL    1.739198   5.0\n",
            "5             OD_PORC    0.783067   6.0\n",
            "9            SST_mg/L    0.649167   7.0\n",
            "6         OD_PORC_FON    0.639490   8.0\n",
            "8         OD_PORC_SUP    0.587918   9.0\n",
            "7         OD_PORC_MED    0.264213  10.0\n"
          ]
        },
        {
          "data": {
            "text/plain": [
              "<Figure size 864x864 with 0 Axes>"
            ]
          },
          "metadata": {},
          "output_type": "display_data"
        },
        {
          "data": {
            "image/png": "[encoded data removed]",
            "text/plain": [
              "<Figure size 432x288 with 1 Axes>"
            ]
          },
          "metadata": {
            "needs_background": "light"
          },
          "output_type": "display_data"
        }
      ],
      "source": [
        "rf = RandomForestClassifier(n_estimators=100)\n",
        "rf.fit(X_features, y_dependent) \n",
        "\n",
        "\n",
        "features = X_features.columns.tolist() \n",
        "featureImpList= []\n",
        "\n",
        "importance = rf.feature_importances_\n",
        "\n",
        "###############################################\n",
        "# Ordenamiento de las principales características\n",
        "for feat, importance in zip(X_features.columns, importance):  \n",
        "    temp = [feat, importance*100]\n",
        "    featureImpList.append(temp)\n",
        "\n",
        "fT_df = pd.DataFrame(featureImpList, columns = ['Feature', 'Importance'])\n",
        "\n",
        "fT_df = fT_df.head(10)\n",
        "fT_df[\"rank\"] = fT_df[\"Importance\"].rank(ascending=False)\n",
        "\n",
        "print(\"Las 10 características más importantes\")\n",
        "print(\"###\" * 20 )\n",
        "print (fT_df.sort_values('Importance', ascending = False))\n",
        "\n",
        "fT_df = fT_df.sort_values(by=['Importance'])\n",
        "\n",
        "###############################################\n",
        "f = plt.figure()\n",
        "f.set_figwidth(12)\n",
        "f.set_figheight(12)\n",
        "\n",
        "fig, ax = plt.subplots()    \n",
        "\n",
        "\n",
        "ind = np.arange(len(fT_df.Importance))  # the x locations for the groups\n",
        "width = 1.75 # the width of the bars \n",
        "\n",
        "# Create horizontal bars\n",
        "plt.barh(y=fT_df.Feature, width=fT_df.Importance)\n",
        "\n",
        "\n",
        "#ax.set_yticks(ind+width/2)\n",
        "ax.set_yticklabels(fT_df.Feature, minor=False)\n",
        "\n",
        "plt.xlabel('Importancia')\n",
        "plt.ylabel('Feature') \n",
        "\n",
        "# Add title\n",
        "plt.title('A simple barplot');\n"
      ]
    },
    {
      "cell_type": "markdown",
      "metadata": {
        "id": "zuDr412a05q7"
      },
      "source": [
        "#### Realiza tu clasificador, recuerda dividir los datos de manera balanceada (auxiliate de train test split)\n"
      ]
    },
    {
      "cell_type": "markdown",
      "metadata": {
        "id": "8vQuT9HQ05q8"
      },
      "source": [
        "**Tomo solo las 10 características con mayor importancia en el dataset X**\n"
      ]
    },
    {
      "cell_type": "code",
      "execution_count": null,
      "metadata": {
        "id": "VJ_stUWO05q8",
        "outputId": "a6426d8b-01d7-4fa7-d837-55486ccb975b"
      },
      "outputs": [
        {
          "name": "stdout",
          "output_type": "stream",
          "text": [
            "Forna X Train (2794, 10)\n",
            "Forna X Test (699, 10)\n",
            "Forna y Train (2794,)\n",
            "Forna y Test (699,)\n"
          ]
        }
      ],
      "source": [
        "# Tomo solo las 10 características con mayor importancia en el dataset X\n",
        "\n",
        "\n",
        "colsReducidas = fT_df[\"Feature\"].values.tolist()\n",
        "X_features = X_features[colsReducidas]\n",
        "\n",
        "X_train, X_test, y_train, y_test = train_test_split(X_features, y_dependent, test_size=0.20, random_state=12)\n",
        "\n",
        "print(f'Forna X Train {X_train.shape}')\n",
        "print(f'Forna X Test {X_test.shape}')\n",
        "print(f'Forna y Train {y_train.shape}')\n",
        "print(f'Forna y Test {y_test.shape}')"
      ]
    },
    {
      "cell_type": "markdown",
      "metadata": {
        "id": "gKITham005q8"
      },
      "source": [
        "#### Gráfica de Precision - Recall **Decision Tree**"
      ]
    },
    {
      "cell_type": "code",
      "execution_count": null,
      "metadata": {
        "id": "6nAl0gpI05q8",
        "outputId": "ba6b4ed6-23a3-4100-8edd-b8ecb7de8499"
      },
      "outputs": [
        {
          "data": {
            "image/png": "[encoded data removed]",
            "text/plain": [
              "<Figure size 432x288 with 1 Axes>"
            ]
          },
          "metadata": {
            "needs_background": "light"
          },
          "output_type": "display_data"
        },
        {
          "data": {
            "text/plain": [
              "<AxesSubplot:title={'center':'Precision-Recall Curve for DecisionTreeClassifier'}, xlabel='Recall', ylabel='Precision'>"
            ]
          },
          "execution_count": 369,
          "metadata": {},
          "output_type": "execute_result"
        }
      ],
      "source": [
        "modeloDT = DecisionTreeClassifier(class_weight = 'balanced', criterion = 'entropy', random_state=120, max_depth=3, min_samples_leaf=5)\n",
        "\n",
        "modeloDT.fit(X_train, y_train)\n",
        "\n",
        "y_pred_entropy = modeloDT.predict(X_test)\n",
        "\n",
        "\n",
        "pred_bin = modeloDT.predict_proba(X_test)\n",
        "pred_bin = pred_bin[:,1] \n",
        "\n",
        "results_DT = confusion_matrix(y_test, y_pred_entropy)\n",
        "precision, recall, thresholds = precision_recall_curve(y_test, pred_bin, pos_label=1)\n",
        "\n",
        "# Create the visualizer, fit, score, and show it\n",
        "viz = PrecisionRecallCurve(\n",
        "    DecisionTreeClassifier(class_weight = 'balanced', criterion = 'entropy', random_state=120, max_depth=3, min_samples_leaf=5),\n",
        "    per_class=True,\n",
        "    cmap=\"Set1\"\n",
        ")\n",
        "\n",
        "viz.fit(X_train, y_train)\n",
        "viz.score(X_test, y_test)\n",
        "viz.show()\n"
      ]
    },
    {
      "cell_type": "markdown",
      "metadata": {
        "id": "RzIdCoaB05q9"
      },
      "source": [
        "#### Reporte de clasificación - **Decision Tree  Classifier**"
      ]
    },
    {
      "cell_type": "code",
      "execution_count": null,
      "metadata": {
        "id": "2E95VtSN05q9",
        "outputId": "a8b6c21e-6aa6-4496-b559-2b8b9443aea9"
      },
      "outputs": [
        {
          "name": "stdout",
          "output_type": "stream",
          "text": [
            "              precision    recall  f1-score   support\n",
            "\n",
            "       Verde       0.99      0.53      0.69       220\n",
            "    Amarillo       1.00      0.99      0.99       231\n",
            "        Rojo       0.70      1.00      0.83       248\n",
            "\n",
            "    accuracy                           0.85       699\n",
            "   macro avg       0.90      0.84      0.84       699\n",
            "weighted avg       0.89      0.85      0.84       699\n",
            "\n"
          ]
        }
      ],
      "source": [
        "target_names = ['Verde', 'Amarillo', 'Rojo']\n",
        "\n",
        "print(classification_report(y_test, y_pred_entropy, target_names=target_names))\n"
      ]
    },
    {
      "cell_type": "markdown",
      "metadata": {
        "id": "3jMeu0Q005q9"
      },
      "source": [
        "#### Gráfica de Precision - Recall **Random Forest Classifier**"
      ]
    },
    {
      "cell_type": "code",
      "execution_count": null,
      "metadata": {
        "id": "Yyat-y1_05q9",
        "outputId": "8351404b-8941-436d-d782-c14a35bf008c"
      },
      "outputs": [
        {
          "data": {
            "image/png": "[encoded data removed]",
            "text/plain": [
              "<Figure size 432x288 with 1 Axes>"
            ]
          },
          "metadata": {
            "needs_background": "light"
          },
          "output_type": "display_data"
        },
        {
          "data": {
            "text/plain": [
              "<AxesSubplot:title={'center':'Precision-Recall Curve for RandomForestClassifier'}, xlabel='Recall', ylabel='Precision'>"
            ]
          },
          "execution_count": 371,
          "metadata": {},
          "output_type": "execute_result"
        }
      ],
      "source": [
        "modeloRF = RandomForestClassifier(ccp_alpha = 0.0001, class_weight = None, criterion = 'gini', max_depth = 1, min_samples_split = 0.1)\n",
        "\n",
        "modeloRF.fit(X_train, y_train)\n",
        "\n",
        "y_pred_ = modeloRF.predict(X_test)\n",
        "\n",
        "\n",
        "pred_bin = modeloRF.predict_proba(X_test)\n",
        "pred_bin = pred_bin[:,1] \n",
        "\n",
        "results_RF = confusion_matrix(y_test, y_pred_)\n",
        "precision, recall, thresholds = precision_recall_curve(y_test, pred_bin, pos_label=1)\n",
        "\n",
        "\n",
        "# Create the visualizer, fit, score, and show it\n",
        "viz = PrecisionRecallCurve(\n",
        "    modeloRF,\n",
        "    per_class=True,\n",
        "    cmap=\"Set1\"\n",
        ")\n",
        "\n",
        "viz.fit(X_train, y_train)\n",
        "viz.score(X_test, y_test)\n",
        "viz.show()"
      ]
    },
    {
      "cell_type": "markdown",
      "metadata": {
        "id": "E-FbJsg905q-"
      },
      "source": [
        "#### Reporte de clasificación - **Random Forest Classifier**"
      ]
    },
    {
      "cell_type": "code",
      "execution_count": null,
      "metadata": {
        "id": "8dcAw8w905q-",
        "outputId": "20b6fb3d-0c15-46c2-a921-dd96a0b481ee"
      },
      "outputs": [
        {
          "name": "stdout",
          "output_type": "stream",
          "text": [
            "              precision    recall  f1-score   support\n",
            "\n",
            "       Verde       0.99      0.57      0.73       220\n",
            "    Amarillo       0.99      0.82      0.90       231\n",
            "        Rojo       0.65      1.00      0.79       248\n",
            "\n",
            "    accuracy                           0.81       699\n",
            "   macro avg       0.88      0.80      0.81       699\n",
            "weighted avg       0.87      0.81      0.81       699\n",
            "\n"
          ]
        }
      ],
      "source": [
        "target_names = ['Verde', 'Amarillo', 'Rojo']\n",
        "\n",
        "print(classification_report(y_test, y_pred_, target_names=target_names))\n"
      ]
    },
    {
      "cell_type": "markdown",
      "metadata": {
        "id": "FJZoJj2d05q-"
      },
      "source": [
        "### Decision Tree Classifier\n",
        "#### Visualiza los resultados del modelo o las predicciones a través de una matriz de confusión.\n"
      ]
    },
    {
      "cell_type": "code",
      "execution_count": null,
      "metadata": {
        "id": "E-cBDROX05q-",
        "outputId": "454b06be-e863-4579-edee-d176f4970b57"
      },
      "outputs": [
        {
          "data": {
            "text/plain": [
              "[Text(0, 0.5, 'Verde'), Text(0, 1.5, 'Amarillo'), Text(0, 2.5, 'Rojo')]"
            ]
          },
          "execution_count": 373,
          "metadata": {},
          "output_type": "execute_result"
        },
        {
          "data": {
            "image/png": "[encoded data removed]",
            "text/plain": [
              "<Figure size 432x288 with 2 Axes>"
            ]
          },
          "metadata": {
            "needs_background": "light"
          },
          "output_type": "display_data"
        }
      ],
      "source": [
        "ax= plt.subplot()\n",
        "sns.heatmap(results_DT, annot=True, fmt='g', ax=ax)  \n",
        "\n",
        "# labels, title and ticks\n",
        "ax.set_xlabel('Predicted labels')\n",
        "ax.set_ylabel('True labels') \n",
        "ax.set_title('Confusion Matrix') \n",
        "\n",
        "ax.xaxis.set_ticklabels(target_names)\n",
        "ax.yaxis.set_ticklabels(target_names)\n"
      ]
    },
    {
      "cell_type": "markdown",
      "metadata": {
        "id": "9id1Hphp05q_"
      },
      "source": [
        "### Random Forest Classifer\n",
        "#### Visualiza los resultados del modelo o las predicciones a través de una matriz de confusión.\n"
      ]
    },
    {
      "cell_type": "code",
      "execution_count": null,
      "metadata": {
        "id": "DD5_xTp505q_",
        "outputId": "09a51982-6fbf-4e90-e487-56f476bcb10e"
      },
      "outputs": [
        {
          "data": {
            "text/plain": [
              "[Text(0, 0.5, 'Verde'), Text(0, 1.5, 'Amarillo'), Text(0, 2.5, 'Rojo')]"
            ]
          },
          "execution_count": 374,
          "metadata": {},
          "output_type": "execute_result"
        },
        {
          "data": {
            "image/png": "[encoded data removed]",
            "text/plain": [
              "<Figure size 432x288 with 2 Axes>"
            ]
          },
          "metadata": {
            "needs_background": "light"
          },
          "output_type": "display_data"
        }
      ],
      "source": [
        "ax= plt.subplot()\n",
        "sns.heatmap(results_RF, annot=True, fmt='g', ax=ax)  \n",
        "\n",
        "# labels, title and ticks\n",
        "ax.set_xlabel('Predicted labels')\n",
        "ax.set_ylabel('True labels') \n",
        "ax.set_title('Confusion Matrix') \n",
        "\n",
        "ax.xaxis.set_ticklabels(target_names)\n",
        "ax.yaxis.set_ticklabels(target_names)"
      ]
    },
    {
      "cell_type": "markdown",
      "metadata": {
        "id": "MGzFCUSE05q_"
      },
      "source": []
    }
  ],
  "metadata": {
    "kernelspec": {
      "display_name": "Python 3.10.0 ('geo')",
      "language": "python",
      "name": "python3"
    },
    "language_info": {
      "codemirror_mode": {
        "name": "ipython",
        "version": 3
      },
      "file_extension": ".py",
      "mimetype": "text/x-python",
      "name": "python",
      "nbconvert_exporter": "python",
      "pygments_lexer": "ipython3",
      "version": "3.10.0"
    },
    "orig_nbformat": 4,
    "vscode": {
      "interpreter": {
        "hash": "fde80763e1471ca9b508951e09b289aa698915c03d1f9abce8a723cf11d0f7b3"
      }
    },
    "colab": {
      "provenance": [],
      "include_colab_link": true
    }
  },
  "nbformat": 4,
  "nbformat_minor": 0
}